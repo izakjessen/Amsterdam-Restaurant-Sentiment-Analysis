{
 "cells": [
  {
   "cell_type": "markdown",
   "id": "fb3656a3",
   "metadata": {},
   "source": [
    "# Import Libraries"
   ]
  },
  {
   "cell_type": "code",
   "execution_count": null,
   "id": "94957012",
   "metadata": {},
   "outputs": [],
   "source": [
    "!pip install torch==1.8.1+cu111 torchvision==0.9.1+cu111 torchaudio===0.8.1 -f https://download.pytorch.org/whl/torch_stable.html"
   ]
  },
  {
   "cell_type": "code",
   "execution_count": null,
   "id": "35092f8f",
   "metadata": {},
   "outputs": [],
   "source": [
    "!pip install transformers requests beautifulsoup4 pandas numpy"
   ]
  },
  {
   "cell_type": "code",
   "execution_count": null,
   "id": "a4018ddd",
   "metadata": {},
   "outputs": [],
   "source": [
    "from transformers import AutoTokenizer, AutoModelForSequenceClassification\n",
    "import torch\n",
    "import requests \n",
    "from bs4 import BeautifulSoup\n",
    "import re"
   ]
  },
  {
   "cell_type": "code",
   "execution_count": null,
   "id": "cdcea961",
   "metadata": {},
   "outputs": [],
   "source": [
    "import pandas as pd\n",
    "import numpy as np"
   ]
  },
  {
   "cell_type": "markdown",
   "id": "fbb6d720",
   "metadata": {},
   "source": [
    "# Instantiate Model"
   ]
  },
  {
   "cell_type": "code",
   "execution_count": null,
   "id": "c7dd957d",
   "metadata": {
    "scrolled": false
   },
   "outputs": [],
   "source": [
    "tokenizer = AutoTokenizer.from_pretrained('nlptown/bert-base-multilingual-uncased-sentiment')\n",
    "\n",
    "model = AutoModelForSequenceClassification.from_pretrained('nlptown/bert-base-multilingual-uncased-sentiment')"
   ]
  },
  {
   "cell_type": "markdown",
   "id": "41019d7d",
   "metadata": {},
   "source": [
    "# Test Model"
   ]
  },
  {
   "cell_type": "code",
   "execution_count": null,
   "id": "f8e4d755",
   "metadata": {},
   "outputs": [],
   "source": [
    "token = tokenizer.encode('Really nice food, shame about the hair in the dish though.', return_tensors='pt')"
   ]
  },
  {
   "cell_type": "code",
   "execution_count": null,
   "id": "8144bb38",
   "metadata": {},
   "outputs": [],
   "source": [
    "result = model(token)"
   ]
  },
  {
   "cell_type": "code",
   "execution_count": null,
   "id": "c8aae5bf",
   "metadata": {},
   "outputs": [],
   "source": [
    "result.logits"
   ]
  },
  {
   "cell_type": "code",
   "execution_count": null,
   "id": "73afb748",
   "metadata": {},
   "outputs": [],
   "source": [
    "int(torch.argmax(result.logits))+1"
   ]
  },
  {
   "cell_type": "markdown",
   "id": "6a940913",
   "metadata": {},
   "source": [
    "# Scrape Reviews"
   ]
  },
  {
   "cell_type": "code",
   "execution_count": null,
   "id": "535563e7",
   "metadata": {},
   "outputs": [],
   "source": [
    "yelp_link = r'https://www.yelp.co.uk/biz/the-pantry-amsterdam'"
   ]
  },
  {
   "cell_type": "code",
   "execution_count": null,
   "id": "8d0315ac",
   "metadata": {},
   "outputs": [],
   "source": [
    "r = requests.get(yelp_link)\n",
    "soup = BeautifulSoup(r.text, 'html.parser')\n",
    "regex = re.compile('.*comment.*')\n",
    "results = soup.find_all('p', {'class':regex})\n",
    "reviews = [result.text for result in results]"
   ]
  },
  {
   "cell_type": "code",
   "execution_count": null,
   "id": "fc5b04be",
   "metadata": {},
   "outputs": [],
   "source": [
    "reviews[0]"
   ]
  },
  {
   "cell_type": "code",
   "execution_count": null,
   "id": "d82055b9",
   "metadata": {},
   "outputs": [],
   "source": [
    "df = pd.DataFrame(np.array(reviews), columns=['review'])"
   ]
  },
  {
   "cell_type": "code",
   "execution_count": null,
   "id": "4d42583f",
   "metadata": {},
   "outputs": [],
   "source": [
    "df"
   ]
  },
  {
   "cell_type": "code",
   "execution_count": null,
   "id": "9da2ffad",
   "metadata": {},
   "outputs": [],
   "source": [
    "def sentiment_score(review):\n",
    "    tokens = tokenizer.encode(review, return_tensors='pt')\n",
    "    result = model(tokens)\n",
    "    return int(torch.argmax(result.logits))+1"
   ]
  },
  {
   "cell_type": "code",
   "execution_count": null,
   "id": "11c9b3d8",
   "metadata": {},
   "outputs": [],
   "source": [
    "df['sentiment'] = df['review'].apply(lambda x: sentiment_score(x[:512]))"
   ]
  },
  {
   "cell_type": "code",
   "execution_count": null,
   "id": "c7ae014b",
   "metadata": {},
   "outputs": [],
   "source": [
    "sentiment_score(df['review'].iloc[0])"
   ]
  },
  {
   "cell_type": "code",
   "execution_count": null,
   "id": "2fc9c1e9",
   "metadata": {},
   "outputs": [],
   "source": [
    "df['review'].iloc[2]"
   ]
  },
  {
   "cell_type": "markdown",
   "id": "ca5e3acc",
   "metadata": {},
   "source": [
    "# Scrape Profile Names"
   ]
  },
  {
   "cell_type": "code",
   "execution_count": null,
   "id": "5e556606",
   "metadata": {},
   "outputs": [],
   "source": [
    "r = requests.get(yelp_link)\n",
    "soup = BeautifulSoup(r.text, 'html.parser')\n",
    "regex = re.compile('.*user.*')\n",
    "results = soup.find_all('a', {'href':regex})\n",
    "profiles = [result.text for result in results]"
   ]
  },
  {
   "cell_type": "code",
   "execution_count": null,
   "id": "c42e5bac",
   "metadata": {},
   "outputs": [],
   "source": [
    "profile_names = []\n",
    "for name in profiles:\n",
    "    if \". \" in name:\n",
    "        continue\n",
    "    if \".\" in name:\n",
    "        profile_names.append(name)"
   ]
  },
  {
   "cell_type": "code",
   "execution_count": null,
   "id": "299f5505",
   "metadata": {},
   "outputs": [],
   "source": [
    "o = 1\n",
    "for i in profile_names:\n",
    "    print(str(o), ')', i )\n",
    "    o = o + 1"
   ]
  },
  {
   "cell_type": "code",
   "execution_count": null,
   "id": "6e5d9289",
   "metadata": {},
   "outputs": [],
   "source": [
    "profile_names"
   ]
  },
  {
   "cell_type": "code",
   "execution_count": null,
   "id": "c42587b3",
   "metadata": {},
   "outputs": [],
   "source": [
    "df['name'] = profile_names"
   ]
  },
  {
   "cell_type": "markdown",
   "id": "7cef3551",
   "metadata": {},
   "source": [
    "# Scrape Review Date"
   ]
  },
  {
   "cell_type": "code",
   "execution_count": null,
   "id": "466f2957",
   "metadata": {},
   "outputs": [],
   "source": [
    "r = requests.get(yelp_link)\n",
    "soup = BeautifulSoup(r.text, 'html.parser')\n",
    "regex = re.compile('.*css-chan6m.*')\n",
    "results = soup.find_all('span', {'class':regex})\n",
    "review_date = [result.text for result in results]"
   ]
  },
  {
   "cell_type": "code",
   "execution_count": null,
   "id": "e44da809",
   "metadata": {
    "scrolled": true
   },
   "outputs": [],
   "source": [
    "df['date'] = review_date[:10]"
   ]
  },
  {
   "cell_type": "markdown",
   "id": "a656898f",
   "metadata": {},
   "source": [
    "# Add ID & Save to CSV"
   ]
  },
  {
   "cell_type": "code",
   "execution_count": null,
   "id": "6711ef76",
   "metadata": {},
   "outputs": [],
   "source": [
    "df['bar_id'] = 1"
   ]
  },
  {
   "cell_type": "code",
   "execution_count": null,
   "id": "14322ea8",
   "metadata": {
    "scrolled": true
   },
   "outputs": [],
   "source": [
    "scraped_reviews = df.reindex(columns=['bar_id', 'date', 'name', 'review', 'sentiment'])\n",
    "scraped_reviews"
   ]
  },
  {
   "cell_type": "code",
   "execution_count": null,
   "id": "d68a2a13",
   "metadata": {},
   "outputs": [],
   "source": [
    "scraped_reviews.to_csv(r'C:\\Users\\jesse\\Sentiment Analysis Project\\reviews.csv', index=0)"
   ]
  }
 ],
 "metadata": {
  "kernelspec": {
   "display_name": "Python 3",
   "language": "python",
   "name": "python3"
  },
  "language_info": {
   "codemirror_mode": {
    "name": "ipython",
    "version": 3
   },
   "file_extension": ".py",
   "mimetype": "text/x-python",
   "name": "python",
   "nbconvert_exporter": "python",
   "pygments_lexer": "ipython3",
   "version": "3.8.8"
  }
 },
 "nbformat": 4,
 "nbformat_minor": 5
}
