{
 "cells": [
  {
   "cell_type": "markdown",
   "id": "fb3656a3",
   "metadata": {},
   "source": [
    "# Import Libraries"
   ]
  },
  {
   "cell_type": "code",
   "execution_count": 1,
   "id": "94957012",
   "metadata": {},
   "outputs": [
    {
     "name": "stdout",
     "output_type": "stream",
     "text": [
      "^C\n"
     ]
    }
   ],
   "source": [
    "!pip install torch==1.8.1+cu111 torchvision==0.9.1+cu111 torchaudio===0.8.1 -f https://download.pytorch.org/whl/torch_stable.html"
   ]
  },
  {
   "cell_type": "code",
   "execution_count": 2,
   "id": "35092f8f",
   "metadata": {},
   "outputs": [
    {
     "name": "stdout",
     "output_type": "stream",
     "text": [
      "^C\n"
     ]
    }
   ],
   "source": [
    "!pip install transformers requests beautifulsoup4 pandas numpy"
   ]
  },
  {
   "cell_type": "code",
   "execution_count": 3,
   "id": "a4018ddd",
   "metadata": {},
   "outputs": [],
   "source": [
    "from transformers import AutoTokenizer, AutoModelForSequenceClassification\n",
    "import torch\n",
    "import requests \n",
    "from bs4 import BeautifulSoup\n",
    "import re"
   ]
  },
  {
   "cell_type": "code",
   "execution_count": 4,
   "id": "cdcea961",
   "metadata": {},
   "outputs": [],
   "source": [
    "import pandas as pd\n",
    "import numpy as np"
   ]
  },
  {
   "cell_type": "markdown",
   "id": "fbb6d720",
   "metadata": {},
   "source": [
    "# Instantiate Model"
   ]
  },
  {
   "cell_type": "code",
   "execution_count": 5,
   "id": "c7dd957d",
   "metadata": {
    "scrolled": false
   },
   "outputs": [
    {
     "name": "stdout",
     "output_type": "stream",
     "text": [
      "Requirement already satisfied: transformers in c:\\users\\jesse\\anaconda3\\lib\\site-packages (4.18.0)\n",
      "Requirement already satisfied: requests in c:\\users\\jesse\\anaconda3\\lib\\site-packages (2.25.1)\n",
      "Requirement already satisfied: beautifulsoup4 in c:\\users\\jesse\\anaconda3\\lib\\site-packages (4.9.3)\n",
      "Requirement already satisfied: pandas in c:\\users\\jesse\\anaconda3\\lib\\site-packages (1.2.4)\n",
      "Requirement already satisfied: numpy in c:\\users\\jesse\\anaconda3\\lib\\site-packages (1.20.1)\n",
      "Requirement already satisfied: soupsieve>1.2 in c:\\users\\jesse\\anaconda3\\lib\\site-packages (from beautifulsoup4) (2.2.1)\n",
      "Requirement already satisfied: python-dateutil>=2.7.3 in c:\\users\\jesse\\anaconda3\\lib\\site-packages (from pandas) (2.8.1)\n",
      "Requirement already satisfied: pytz>=2017.3 in c:\\users\\jesse\\anaconda3\\lib\\site-packages (from pandas) (2021.1)\n",
      "Requirement already satisfied: six>=1.5 in c:\\users\\jesse\\anaconda3\\lib\\site-packages (from python-dateutil>=2.7.3->pandas) (1.15.0)\n",
      "Requirement already satisfied: urllib3<1.27,>=1.21.1 in c:\\users\\jesse\\anaconda3\\lib\\site-packages (from requests) (1.26.4)\n",
      "Requirement already satisfied: chardet<5,>=3.0.2 in c:\\users\\jesse\\anaconda3\\lib\\site-packages (from requests) (4.0.0)\n",
      "Requirement already satisfied: certifi>=2017.4.17 in c:\\users\\jesse\\anaconda3\\lib\\site-packages (from requests) (2020.12.5)\n",
      "Requirement already satisfied: idna<3,>=2.5 in c:\\users\\jesse\\anaconda3\\lib\\site-packages (from requests) (2.10)\n",
      "Requirement already satisfied: sacremoses in c:\\users\\jesse\\anaconda3\\lib\\site-packages (from transformers) (0.0.53)\n",
      "Requirement already satisfied: tqdm>=4.27 in c:\\users\\jesse\\anaconda3\\lib\\site-packages (from transformers) (4.59.0)\n",
      "Requirement already satisfied: tokenizers!=0.11.3,<0.13,>=0.11.1 in c:\\users\\jesse\\anaconda3\\lib\\site-packages (from transformers) (0.12.1)\n",
      "Requirement already satisfied: huggingface-hub<1.0,>=0.1.0 in c:\\users\\jesse\\anaconda3\\lib\\site-packages (from transformers) (0.5.1)\n",
      "Requirement already satisfied: pyyaml>=5.1 in c:\\users\\jesse\\anaconda3\\lib\\site-packages (from transformers) (5.4.1)\n",
      "Requirement already satisfied: filelock in c:\\users\\jesse\\anaconda3\\lib\\site-packages (from transformers) (3.0.12)\n",
      "Requirement already satisfied: regex!=2019.12.17 in c:\\users\\jesse\\anaconda3\\lib\\site-packages (from transformers) (2021.4.4)\n",
      "Requirement already satisfied: packaging>=20.0 in c:\\users\\jesse\\anaconda3\\lib\\site-packages (from transformers) (20.9)\n",
      "Requirement already satisfied: typing-extensions>=3.7.4.3 in c:\\users\\jesse\\anaconda3\\lib\\site-packages (from huggingface-hub<1.0,>=0.1.0->transformers) (4.2.0)\n",
      "Requirement already satisfied: pyparsing>=2.0.2 in c:\\users\\jesse\\anaconda3\\lib\\site-packages (from packaging>=20.0->transformers) (2.4.7)\n",
      "Requirement already satisfied: joblib in c:\\users\\jesse\\anaconda3\\lib\\site-packages (from sacremoses->transformers) (1.0.1)\n",
      "Requirement already satisfied: click in c:\\users\\jesse\\anaconda3\\lib\\site-packages (from sacremoses->transformers) (7.1.2)\n"
     ]
    }
   ],
   "source": [
    "tokenizer = AutoTokenizer.from_pretrained('nlptown/bert-base-multilingual-uncased-sentiment')\n",
    "\n",
    "model = AutoModelForSequenceClassification.from_pretrained('nlptown/bert-base-multilingual-uncased-sentiment')"
   ]
  },
  {
   "cell_type": "markdown",
   "id": "41019d7d",
   "metadata": {},
   "source": [
    "# Test Model"
   ]
  },
  {
   "cell_type": "code",
   "execution_count": 6,
   "id": "f8e4d755",
   "metadata": {},
   "outputs": [],
   "source": [
    "token = tokenizer.encode('Really nice food, shame about the hair in the dish though.', return_tensors='pt')"
   ]
  },
  {
   "cell_type": "code",
   "execution_count": 7,
   "id": "8144bb38",
   "metadata": {},
   "outputs": [],
   "source": [
    "result = model(token)"
   ]
  },
  {
   "cell_type": "code",
   "execution_count": 8,
   "id": "c8aae5bf",
   "metadata": {},
   "outputs": [
    {
     "data": {
      "text/plain": [
       "tensor([[-2.5593, -1.3775,  0.8409,  2.2248,  0.5476]],\n",
       "       grad_fn=<AddmmBackward0>)"
      ]
     },
     "execution_count": 8,
     "metadata": {},
     "output_type": "execute_result"
    }
   ],
   "source": [
    "result.logits"
   ]
  },
  {
   "cell_type": "code",
   "execution_count": 9,
   "id": "73afb748",
   "metadata": {},
   "outputs": [
    {
     "data": {
      "text/plain": [
       "4"
      ]
     },
     "execution_count": 9,
     "metadata": {},
     "output_type": "execute_result"
    }
   ],
   "source": [
    "int(torch.argmax(result.logits))+1"
   ]
  },
  {
   "cell_type": "markdown",
   "id": "6a940913",
   "metadata": {},
   "source": [
    "# Scrape Reviews"
   ]
  },
  {
   "cell_type": "code",
   "execution_count": 10,
   "id": "535563e7",
   "metadata": {},
   "outputs": [],
   "source": [
    "yelp_link = r'https://www.yelp.co.uk/biz/the-pantry-amsterdam'"
   ]
  },
  {
   "cell_type": "code",
   "execution_count": 11,
   "id": "8d0315ac",
   "metadata": {},
   "outputs": [],
   "source": [
    "r = requests.get(yelp_link)\n",
    "soup = BeautifulSoup(r.text, 'html.parser')\n",
    "regex = re.compile('.*comment.*')\n",
    "results = soup.find_all('p', {'class':regex})\n",
    "reviews = [result.text for result in results]"
   ]
  },
  {
   "cell_type": "code",
   "execution_count": 12,
   "id": "fc5b04be",
   "metadata": {},
   "outputs": [
    {
     "data": {
      "text/plain": [
       "'Our server was great!! Food was delicious. Very tiny restaurant in amsterdam super cozy. The 3 course special was good!'"
      ]
     },
     "execution_count": 12,
     "metadata": {},
     "output_type": "execute_result"
    }
   ],
   "source": [
    "reviews[0]"
   ]
  },
  {
   "cell_type": "code",
   "execution_count": 13,
   "id": "d82055b9",
   "metadata": {},
   "outputs": [],
   "source": [
    "df = pd.DataFrame(np.array(reviews), columns=['review'])"
   ]
  },
  {
   "cell_type": "code",
   "execution_count": 14,
   "id": "4d42583f",
   "metadata": {},
   "outputs": [
    {
     "data": {
      "text/html": [
       "<div>\n",
       "<style scoped>\n",
       "    .dataframe tbody tr th:only-of-type {\n",
       "        vertical-align: middle;\n",
       "    }\n",
       "\n",
       "    .dataframe tbody tr th {\n",
       "        vertical-align: top;\n",
       "    }\n",
       "\n",
       "    .dataframe thead th {\n",
       "        text-align: right;\n",
       "    }\n",
       "</style>\n",
       "<table border=\"1\" class=\"dataframe\">\n",
       "  <thead>\n",
       "    <tr style=\"text-align: right;\">\n",
       "      <th></th>\n",
       "      <th>review</th>\n",
       "    </tr>\n",
       "  </thead>\n",
       "  <tbody>\n",
       "    <tr>\n",
       "      <th>0</th>\n",
       "      <td>Our server was great!! Food was delicious. Ver...</td>\n",
       "    </tr>\n",
       "    <tr>\n",
       "      <th>1</th>\n",
       "      <td>Dear Craig,What a gem! If you're looking for a...</td>\n",
       "    </tr>\n",
       "    <tr>\n",
       "      <th>2</th>\n",
       "      <td>Great food and amazing service.I'm not a good ...</td>\n",
       "    </tr>\n",
       "    <tr>\n",
       "      <th>3</th>\n",
       "      <td>Stoped in just to see if we could get a table,...</td>\n",
       "    </tr>\n",
       "    <tr>\n",
       "      <th>4</th>\n",
       "      <td>The Pantry was the last meal we had in Amsterd...</td>\n",
       "    </tr>\n",
       "    <tr>\n",
       "      <th>5</th>\n",
       "      <td>The Pantry is a cozy place. Yes , it's small b...</td>\n",
       "    </tr>\n",
       "    <tr>\n",
       "      <th>6</th>\n",
       "      <td>Amazing experience! We didn't have a reservati...</td>\n",
       "    </tr>\n",
       "    <tr>\n",
       "      <th>7</th>\n",
       "      <td>What an unexpected treat! We wanted traditiona...</td>\n",
       "    </tr>\n",
       "    <tr>\n",
       "      <th>8</th>\n",
       "      <td>It is not easy to find a traditional dutch foo...</td>\n",
       "    </tr>\n",
       "    <tr>\n",
       "      <th>9</th>\n",
       "      <td>Ok. If you want the authentic Dutch experience...</td>\n",
       "    </tr>\n",
       "  </tbody>\n",
       "</table>\n",
       "</div>"
      ],
      "text/plain": [
       "                                              review\n",
       "0  Our server was great!! Food was delicious. Ver...\n",
       "1  Dear Craig,What a gem! If you're looking for a...\n",
       "2  Great food and amazing service.I'm not a good ...\n",
       "3  Stoped in just to see if we could get a table,...\n",
       "4  The Pantry was the last meal we had in Amsterd...\n",
       "5  The Pantry is a cozy place. Yes , it's small b...\n",
       "6  Amazing experience! We didn't have a reservati...\n",
       "7  What an unexpected treat! We wanted traditiona...\n",
       "8  It is not easy to find a traditional dutch foo...\n",
       "9  Ok. If you want the authentic Dutch experience..."
      ]
     },
     "execution_count": 14,
     "metadata": {},
     "output_type": "execute_result"
    }
   ],
   "source": [
    "df"
   ]
  },
  {
   "cell_type": "code",
   "execution_count": 15,
   "id": "9da2ffad",
   "metadata": {},
   "outputs": [],
   "source": [
    "def sentiment_score(review):\n",
    "    tokens = tokenizer.encode(review, return_tensors='pt')\n",
    "    result = model(tokens)\n",
    "    return int(torch.argmax(result.logits))+1"
   ]
  },
  {
   "cell_type": "code",
   "execution_count": 16,
   "id": "11c9b3d8",
   "metadata": {},
   "outputs": [],
   "source": [
    "df['sentiment'] = df['review'].apply(lambda x: sentiment_score(x[:512]))"
   ]
  },
  {
   "cell_type": "code",
   "execution_count": 17,
   "id": "c7ae014b",
   "metadata": {},
   "outputs": [
    {
     "data": {
      "text/plain": [
       "5"
      ]
     },
     "execution_count": 17,
     "metadata": {},
     "output_type": "execute_result"
    }
   ],
   "source": [
    "sentiment_score(df['review'].iloc[0])"
   ]
  },
  {
   "cell_type": "code",
   "execution_count": 18,
   "id": "2fc9c1e9",
   "metadata": {},
   "outputs": [
    {
     "data": {
      "text/plain": [
       "\"Great food and amazing service.I'm not a good writer and don't know how to write hundreds of words in admiration of a place but I must say that it was better than expectations. I ordered a Tomato soup and Goat cheese croquettes for a warm starter and for the main course I had a steak. The quantity was good but I guess they can work a bit more on the quality of the ingredients. Also, the staff was very friendly and professional.\""
      ]
     },
     "execution_count": 18,
     "metadata": {},
     "output_type": "execute_result"
    }
   ],
   "source": [
    "df['review'].iloc[2]"
   ]
  },
  {
   "cell_type": "markdown",
   "id": "ca5e3acc",
   "metadata": {},
   "source": [
    "# Scrape Profile Names"
   ]
  },
  {
   "cell_type": "code",
   "execution_count": 19,
   "id": "5e556606",
   "metadata": {},
   "outputs": [],
   "source": [
    "r = requests.get(yelp_link)\n",
    "soup = BeautifulSoup(r.text, 'html.parser')\n",
    "regex = re.compile('.*user.*')\n",
    "results = soup.find_all('a', {'href':regex})\n",
    "profiles = [result.text for result in results]"
   ]
  },
  {
   "cell_type": "code",
   "execution_count": 20,
   "id": "c42e5bac",
   "metadata": {},
   "outputs": [],
   "source": [
    "profile_names = []\n",
    "for name in profiles:\n",
    "    if \". \" in name:\n",
    "        continue\n",
    "    if \".\" in name:\n",
    "        profile_names.append(name)"
   ]
  },
  {
   "cell_type": "code",
   "execution_count": 21,
   "id": "299f5505",
   "metadata": {},
   "outputs": [
    {
     "name": "stdout",
     "output_type": "stream",
     "text": [
      "1 ) Cindy C.\n",
      "2 ) Jack C.\n",
      "3 ) Emma W.\n",
      "4 ) Daniel K.\n",
      "5 ) Mia L.\n",
      "6 ) Robin M.\n",
      "7 ) Briana B.\n",
      "8 ) Kathleen F.\n",
      "9 ) Johanna S.\n",
      "10 ) TS R.\n"
     ]
    }
   ],
   "source": [
    "o = 1\n",
    "for i in profile_names:\n",
    "    print(str(o), ')', i )\n",
    "    o = o + 1"
   ]
  },
  {
   "cell_type": "code",
   "execution_count": 22,
   "id": "6e5d9289",
   "metadata": {},
   "outputs": [
    {
     "data": {
      "text/plain": [
       "['Cindy C.',\n",
       " 'Jack C.',\n",
       " 'Emma W.',\n",
       " 'Daniel K.',\n",
       " 'Mia L.',\n",
       " 'Robin M.',\n",
       " 'Briana B.',\n",
       " 'Kathleen F.',\n",
       " 'Johanna S.',\n",
       " 'TS R.']"
      ]
     },
     "execution_count": 22,
     "metadata": {},
     "output_type": "execute_result"
    }
   ],
   "source": [
    "profile_names"
   ]
  },
  {
   "cell_type": "code",
   "execution_count": 23,
   "id": "c42587b3",
   "metadata": {},
   "outputs": [],
   "source": [
    "df['name'] = profile_names"
   ]
  },
  {
   "cell_type": "markdown",
   "id": "7cef3551",
   "metadata": {},
   "source": [
    "# Scrape Review Date"
   ]
  },
  {
   "cell_type": "code",
   "execution_count": 24,
   "id": "466f2957",
   "metadata": {},
   "outputs": [],
   "source": [
    "r = requests.get(yelp_link)\n",
    "soup = BeautifulSoup(r.text, 'html.parser')\n",
    "regex = re.compile('.*css-chan6m.*')\n",
    "results = soup.find_all('span', {'class':regex})\n",
    "review_date = [result.text for result in results]"
   ]
  },
  {
   "cell_type": "code",
   "execution_count": 25,
   "id": "e44da809",
   "metadata": {
    "scrolled": true
   },
   "outputs": [],
   "source": [
    "df['date'] = review_date[:10]"
   ]
  },
  {
   "cell_type": "markdown",
   "id": "a656898f",
   "metadata": {},
   "source": [
    "# Add ID & Save to CSV"
   ]
  },
  {
   "cell_type": "code",
   "execution_count": 26,
   "id": "6711ef76",
   "metadata": {},
   "outputs": [],
   "source": [
    "df['bar_id'] = 1"
   ]
  },
  {
   "cell_type": "code",
   "execution_count": 27,
   "id": "14322ea8",
   "metadata": {
    "scrolled": true
   },
   "outputs": [
    {
     "data": {
      "text/html": [
       "<div>\n",
       "<style scoped>\n",
       "    .dataframe tbody tr th:only-of-type {\n",
       "        vertical-align: middle;\n",
       "    }\n",
       "\n",
       "    .dataframe tbody tr th {\n",
       "        vertical-align: top;\n",
       "    }\n",
       "\n",
       "    .dataframe thead th {\n",
       "        text-align: right;\n",
       "    }\n",
       "</style>\n",
       "<table border=\"1\" class=\"dataframe\">\n",
       "  <thead>\n",
       "    <tr style=\"text-align: right;\">\n",
       "      <th></th>\n",
       "      <th>bar_id</th>\n",
       "      <th>date</th>\n",
       "      <th>name</th>\n",
       "      <th>review</th>\n",
       "      <th>sentiment</th>\n",
       "    </tr>\n",
       "  </thead>\n",
       "  <tbody>\n",
       "    <tr>\n",
       "      <th>0</th>\n",
       "      <td>1</td>\n",
       "      <td>10/4/2022</td>\n",
       "      <td>Cindy C.</td>\n",
       "      <td>Our server was great!! Food was delicious. Ver...</td>\n",
       "      <td>5</td>\n",
       "    </tr>\n",
       "    <tr>\n",
       "      <th>1</th>\n",
       "      <td>1</td>\n",
       "      <td>1/4/2022</td>\n",
       "      <td>Jack C.</td>\n",
       "      <td>Dear Craig,What a gem! If you're looking for a...</td>\n",
       "      <td>5</td>\n",
       "    </tr>\n",
       "    <tr>\n",
       "      <th>2</th>\n",
       "      <td>1</td>\n",
       "      <td>17/3/2022</td>\n",
       "      <td>Emma W.</td>\n",
       "      <td>Great food and amazing service.I'm not a good ...</td>\n",
       "      <td>4</td>\n",
       "    </tr>\n",
       "    <tr>\n",
       "      <th>3</th>\n",
       "      <td>1</td>\n",
       "      <td>24/4/2022</td>\n",
       "      <td>Daniel K.</td>\n",
       "      <td>Stoped in just to see if we could get a table,...</td>\n",
       "      <td>4</td>\n",
       "    </tr>\n",
       "    <tr>\n",
       "      <th>4</th>\n",
       "      <td>1</td>\n",
       "      <td>13/4/2022</td>\n",
       "      <td>Mia L.</td>\n",
       "      <td>The Pantry was the last meal we had in Amsterd...</td>\n",
       "      <td>5</td>\n",
       "    </tr>\n",
       "    <tr>\n",
       "      <th>5</th>\n",
       "      <td>1</td>\n",
       "      <td>14/4/2022</td>\n",
       "      <td>Robin M.</td>\n",
       "      <td>The Pantry is a cozy place. Yes , it's small b...</td>\n",
       "      <td>4</td>\n",
       "    </tr>\n",
       "    <tr>\n",
       "      <th>6</th>\n",
       "      <td>1</td>\n",
       "      <td>11/4/2022</td>\n",
       "      <td>Briana B.</td>\n",
       "      <td>Amazing experience! We didn't have a reservati...</td>\n",
       "      <td>5</td>\n",
       "    </tr>\n",
       "    <tr>\n",
       "      <th>7</th>\n",
       "      <td>1</td>\n",
       "      <td>15/4/2022</td>\n",
       "      <td>Kathleen F.</td>\n",
       "      <td>What an unexpected treat! We wanted traditiona...</td>\n",
       "      <td>5</td>\n",
       "    </tr>\n",
       "    <tr>\n",
       "      <th>8</th>\n",
       "      <td>1</td>\n",
       "      <td>6/8/2021</td>\n",
       "      <td>Johanna S.</td>\n",
       "      <td>It is not easy to find a traditional dutch foo...</td>\n",
       "      <td>4</td>\n",
       "    </tr>\n",
       "    <tr>\n",
       "      <th>9</th>\n",
       "      <td>1</td>\n",
       "      <td>4/5/2022</td>\n",
       "      <td>TS R.</td>\n",
       "      <td>Ok. If you want the authentic Dutch experience...</td>\n",
       "      <td>3</td>\n",
       "    </tr>\n",
       "  </tbody>\n",
       "</table>\n",
       "</div>"
      ],
      "text/plain": [
       "   bar_id       date         name  \\\n",
       "0       1  10/4/2022     Cindy C.   \n",
       "1       1   1/4/2022      Jack C.   \n",
       "2       1  17/3/2022      Emma W.   \n",
       "3       1  24/4/2022    Daniel K.   \n",
       "4       1  13/4/2022       Mia L.   \n",
       "5       1  14/4/2022     Robin M.   \n",
       "6       1  11/4/2022    Briana B.   \n",
       "7       1  15/4/2022  Kathleen F.   \n",
       "8       1   6/8/2021   Johanna S.   \n",
       "9       1   4/5/2022        TS R.   \n",
       "\n",
       "                                              review  sentiment  \n",
       "0  Our server was great!! Food was delicious. Ver...          5  \n",
       "1  Dear Craig,What a gem! If you're looking for a...          5  \n",
       "2  Great food and amazing service.I'm not a good ...          4  \n",
       "3  Stoped in just to see if we could get a table,...          4  \n",
       "4  The Pantry was the last meal we had in Amsterd...          5  \n",
       "5  The Pantry is a cozy place. Yes , it's small b...          4  \n",
       "6  Amazing experience! We didn't have a reservati...          5  \n",
       "7  What an unexpected treat! We wanted traditiona...          5  \n",
       "8  It is not easy to find a traditional dutch foo...          4  \n",
       "9  Ok. If you want the authentic Dutch experience...          3  "
      ]
     },
     "execution_count": 27,
     "metadata": {},
     "output_type": "execute_result"
    }
   ],
   "source": [
    "scraped_reviews = df.reindex(columns=['bar_id', 'date', 'name', 'review', 'sentiment'])\n",
    "scraped_reviews"
   ]
  },
  {
   "cell_type": "code",
   "execution_count": 28,
   "id": "d68a2a13",
   "metadata": {},
   "outputs": [],
   "source": [
    "scraped_reviews.to_csv(r'C:\\Users\\jesse\\Sentiment Analysis Project\\reviews.csv', index=0)"
   ]
  }
 ],
 "metadata": {
  "kernelspec": {
   "display_name": "Python 3",
   "language": "python",
   "name": "python3"
  },
  "language_info": {
   "codemirror_mode": {
    "name": "ipython",
    "version": 3
   },
   "file_extension": ".py",
   "mimetype": "text/x-python",
   "name": "python",
   "nbconvert_exporter": "python",
   "pygments_lexer": "ipython3",
   "version": "3.8.8"
  }
 },
 "nbformat": 4,
 "nbformat_minor": 5
}
